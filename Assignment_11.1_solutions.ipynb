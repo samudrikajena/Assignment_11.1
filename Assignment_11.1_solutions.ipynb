{
 "cells": [
  {
   "cell_type": "markdown",
   "metadata": {},
   "source": [
    "<h3>Q1: What are the three stages to build the hypotheses or model in machine learning?</h3>\n",
    "\n",
    "<b>Ans:</b>\n",
    "\n",
    "To build hypotheses or model in machine learning following stages are followed<br>\n",
    "\n",
    "<b>i) Model building</b> - includes Data Preparation, Training and Test set generation, Algorithm Training<br>\n",
    "\n",
    "<b>ii) Model testing</b> - includes Prediction and Evaluation of Test Data<br>\n",
    "\n",
    "<b>iii) Applying the model</b> - includes Deployment and Monitoring\n"
   ]
  },
  {
   "cell_type": "markdown",
   "metadata": {},
   "source": [
    "<h3>Q2. What is the standard approach to supervised learning?</h3>\n",
    "\n",
    "<b>Ans:</b>\n",
    "The standard approach to supervised learning is to split the set of example into the training set and the test.\n"
   ]
  },
  {
   "cell_type": "markdown",
   "metadata": {},
   "source": [
    "<h3>Q3. What is Training set and Test set?</h3>\n",
    "\n",
    "<b>Ans:</b>\n",
    "\n",
    "<b>Training set</b> - It is a data set used to train the model. To train a model,specific features are picked up from \n",
    "the training set. Hence if the training set is labeled correctly, the model should be able to learn from these \n",
    "features.\n",
    "\n",
    "<b>Test set</b> - It is a data set used to measure how well the model performs at making predictions on the test data\n",
    "based on the training. If the prediction scores for the test set are unreasonable, then some adjustments are made \n",
    "to our model and try again.\n"
   ]
  },
  {
   "cell_type": "markdown",
   "metadata": {},
   "source": [
    "<h3>Q4. What is the general principle of an ensemble method and what is bagging and\n",
    "boosting in ensemble method?</h3>"
   ]
  },
  {
   "cell_type": "markdown",
   "metadata": {},
   "source": [
    "\n",
    "<b>Ans:</b>\n",
    "\n",
    "Ensemble learning is used when you build component classifiers that are more accurate and independent from each other.\n",
    "\n",
    "<b>General principle of an ensemble method</b> is to combine the predictions of several models built with a given learning algorithm in order to improve robustness over a single model.\n",
    "\n",
    "<b>Bagging in ensemble method</b> is a method in ensemble for improving unstable estimation or classification schemes. \n",
    "\n",
    "<b>Boosting in ensemble method</b> is a method which is used sequentially to reduce the bias of the combined model.\n",
    "\n",
    "Both Boosting  & Bagging can reduce errors by reducing the variance term.\n",
    "</pre>"
   ]
  },
  {
   "cell_type": "markdown",
   "metadata": {},
   "source": [
    "<h3>Q5. How can you avoid overfitting ?</h3>"
   ]
  },
  {
   "cell_type": "markdown",
   "metadata": {},
   "source": [
    "<b>Ans: </b>\n",
    "\n",
    "The possibility of over fitting occurs because the criteria used for <b>training the model</b> is not the same as the criteria used to <b>judge the efficacy</b> of a model.\n",
    "\n",
    "<b>By using a lot of data</b> over fitting can be avoided, over fitting happens relatively as you have a small dataset, and you try to learn from it. But if you have a small database and you are forced to come with a model based on that. In such situation, you can use a technique known as <b>cross validation</b>.\n",
    "\n",
    "In <b> Cross Vallidation</b> method the dataset splits into two section, <b>testing &amp; training datasets</b>.\n",
    "The testing dataset will only test the model and in training dataset, the data points will come up with the model.<br>\n",
    "\n",
    "In this technique, a model is usually given a dataset of a known data on which training (training data set) is run and a dataset of unknown data against which the model is tested. The idea of cross validation is to define a dataset to “test” the model in the training phase."
   ]
  },
  {
   "cell_type": "code",
   "execution_count": null,
   "metadata": {},
   "outputs": [],
   "source": []
  }
 ],
 "metadata": {
  "kernelspec": {
   "display_name": "Python 3",
   "language": "python",
   "name": "python3"
  },
  "language_info": {
   "codemirror_mode": {
    "name": "ipython",
    "version": 3
   },
   "file_extension": ".py",
   "mimetype": "text/x-python",
   "name": "python",
   "nbconvert_exporter": "python",
   "pygments_lexer": "ipython3",
   "version": "3.6.4"
  }
 },
 "nbformat": 4,
 "nbformat_minor": 2
}
